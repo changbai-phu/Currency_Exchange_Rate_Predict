{
  "nbformat": 4,
  "nbformat_minor": 0,
  "metadata": {
    "colab": {
      "provenance": [],
      "authorship_tag": "ABX9TyNjFzDYs+z5q0B9UQm5Haol",
      "include_colab_link": true
    },
    "kernelspec": {
      "name": "python3",
      "display_name": "Python 3"
    },
    "language_info": {
      "name": "python"
    }
  },
  "cells": [
    {
      "cell_type": "markdown",
      "metadata": {
        "id": "view-in-github",
        "colab_type": "text"
      },
      "source": [
        "<a href=\"https://colab.research.google.com/github/changbai-phu/Currency_Exchange_Rate_Predict/blob/main/Different_Forecast.ipynb\" target=\"_parent\"><img src=\"https://colab.research.google.com/assets/colab-badge.svg\" alt=\"Open In Colab\"/></a>"
      ]
    },
    {
      "cell_type": "code",
      "execution_count": null,
      "metadata": {
        "id": "iKPrr_P73yiT"
      },
      "outputs": [],
      "source": [
        "!pip install yfinance requests beautifulsoup4 pandas"
      ]
    },
    {
      "cell_type": "markdown",
      "source": [
        "## 1. Data Preparation"
      ],
      "metadata": {
        "id": "64-J4YD64Cfc"
      }
    },
    {
      "cell_type": "code",
      "source": [
        "#google page only has real time data, need to go to yahoo finance for historical data\n",
        "import yfinance as yf\n",
        "\n",
        "# Get last 6 months of daily data\n",
        "df = yf.download(\"CADCNY=X\", start=\"2025-02-01\", end=\"2025-08-01\", interval='1d')\n",
        "df = df[['Close']]\n",
        "df.reset_index(inplace=True)\n",
        "df.columns = ['Date', 'Rate']\n",
        "\n",
        "df.to_csv(\"cad_cny_history.csv\", index=False)\n",
        "print(df.tail())"
      ],
      "metadata": {
        "colab": {
          "base_uri": "https://localhost:8080/"
        },
        "id": "ICcvrrZ24Gh1",
        "outputId": "cae5df9c-3af5-4a4b-cab5-339d6a8206df"
      },
      "execution_count": 1,
      "outputs": [
        {
          "output_type": "stream",
          "name": "stderr",
          "text": [
            "/tmp/ipython-input-3523705728.py:5: FutureWarning: YF.download() has changed argument auto_adjust default to True\n",
            "  df = yf.download(\"CADCNY=X\", start=\"2025-02-01\", end=\"2025-08-01\", interval='1d')\n",
            "[*********************100%***********************]  1 of 1 completed"
          ]
        },
        {
          "output_type": "stream",
          "name": "stdout",
          "text": [
            "          Date      Rate\n",
            "122 2025-07-25  5.243906\n",
            "123 2025-07-28  5.220485\n",
            "124 2025-07-29  5.226109\n",
            "125 2025-07-30  5.209860\n",
            "126 2025-07-31  5.190529\n"
          ]
        },
        {
          "output_type": "stream",
          "name": "stderr",
          "text": [
            "\n"
          ]
        }
      ]
    },
    {
      "cell_type": "code",
      "source": [
        "df.head()"
      ],
      "metadata": {
        "colab": {
          "base_uri": "https://localhost:8080/",
          "height": 204
        },
        "id": "MO97x3BW4XN7",
        "outputId": "8ed89606-a383-4197-e323-b5326fea3452"
      },
      "execution_count": 2,
      "outputs": [
        {
          "output_type": "execute_result",
          "data": {
            "text/plain": [
              "        Date      Rate\n",
              "0 2025-02-03  4.883466\n",
              "1 2025-02-04  4.989753\n",
              "2 2025-02-05  5.010937\n",
              "3 2025-02-06  5.078317\n",
              "4 2025-02-07  5.093781"
            ],
            "text/html": [
              "\n",
              "  <div id=\"df-603abc8b-0c4b-4462-8b18-f8c2d36524ab\" class=\"colab-df-container\">\n",
              "    <div>\n",
              "<style scoped>\n",
              "    .dataframe tbody tr th:only-of-type {\n",
              "        vertical-align: middle;\n",
              "    }\n",
              "\n",
              "    .dataframe tbody tr th {\n",
              "        vertical-align: top;\n",
              "    }\n",
              "\n",
              "    .dataframe thead th {\n",
              "        text-align: right;\n",
              "    }\n",
              "</style>\n",
              "<table border=\"1\" class=\"dataframe\">\n",
              "  <thead>\n",
              "    <tr style=\"text-align: right;\">\n",
              "      <th></th>\n",
              "      <th>Date</th>\n",
              "      <th>Rate</th>\n",
              "    </tr>\n",
              "  </thead>\n",
              "  <tbody>\n",
              "    <tr>\n",
              "      <th>0</th>\n",
              "      <td>2025-02-03</td>\n",
              "      <td>4.883466</td>\n",
              "    </tr>\n",
              "    <tr>\n",
              "      <th>1</th>\n",
              "      <td>2025-02-04</td>\n",
              "      <td>4.989753</td>\n",
              "    </tr>\n",
              "    <tr>\n",
              "      <th>2</th>\n",
              "      <td>2025-02-05</td>\n",
              "      <td>5.010937</td>\n",
              "    </tr>\n",
              "    <tr>\n",
              "      <th>3</th>\n",
              "      <td>2025-02-06</td>\n",
              "      <td>5.078317</td>\n",
              "    </tr>\n",
              "    <tr>\n",
              "      <th>4</th>\n",
              "      <td>2025-02-07</td>\n",
              "      <td>5.093781</td>\n",
              "    </tr>\n",
              "  </tbody>\n",
              "</table>\n",
              "</div>\n",
              "    <div class=\"colab-df-buttons\">\n",
              "\n",
              "  <div class=\"colab-df-container\">\n",
              "    <button class=\"colab-df-convert\" onclick=\"convertToInteractive('df-603abc8b-0c4b-4462-8b18-f8c2d36524ab')\"\n",
              "            title=\"Convert this dataframe to an interactive table.\"\n",
              "            style=\"display:none;\">\n",
              "\n",
              "  <svg xmlns=\"http://www.w3.org/2000/svg\" height=\"24px\" viewBox=\"0 -960 960 960\">\n",
              "    <path d=\"M120-120v-720h720v720H120Zm60-500h600v-160H180v160Zm220 220h160v-160H400v160Zm0 220h160v-160H400v160ZM180-400h160v-160H180v160Zm440 0h160v-160H620v160ZM180-180h160v-160H180v160Zm440 0h160v-160H620v160Z\"/>\n",
              "  </svg>\n",
              "    </button>\n",
              "\n",
              "  <style>\n",
              "    .colab-df-container {\n",
              "      display:flex;\n",
              "      gap: 12px;\n",
              "    }\n",
              "\n",
              "    .colab-df-convert {\n",
              "      background-color: #E8F0FE;\n",
              "      border: none;\n",
              "      border-radius: 50%;\n",
              "      cursor: pointer;\n",
              "      display: none;\n",
              "      fill: #1967D2;\n",
              "      height: 32px;\n",
              "      padding: 0 0 0 0;\n",
              "      width: 32px;\n",
              "    }\n",
              "\n",
              "    .colab-df-convert:hover {\n",
              "      background-color: #E2EBFA;\n",
              "      box-shadow: 0px 1px 2px rgba(60, 64, 67, 0.3), 0px 1px 3px 1px rgba(60, 64, 67, 0.15);\n",
              "      fill: #174EA6;\n",
              "    }\n",
              "\n",
              "    .colab-df-buttons div {\n",
              "      margin-bottom: 4px;\n",
              "    }\n",
              "\n",
              "    [theme=dark] .colab-df-convert {\n",
              "      background-color: #3B4455;\n",
              "      fill: #D2E3FC;\n",
              "    }\n",
              "\n",
              "    [theme=dark] .colab-df-convert:hover {\n",
              "      background-color: #434B5C;\n",
              "      box-shadow: 0px 1px 3px 1px rgba(0, 0, 0, 0.15);\n",
              "      filter: drop-shadow(0px 1px 2px rgba(0, 0, 0, 0.3));\n",
              "      fill: #FFFFFF;\n",
              "    }\n",
              "  </style>\n",
              "\n",
              "    <script>\n",
              "      const buttonEl =\n",
              "        document.querySelector('#df-603abc8b-0c4b-4462-8b18-f8c2d36524ab button.colab-df-convert');\n",
              "      buttonEl.style.display =\n",
              "        google.colab.kernel.accessAllowed ? 'block' : 'none';\n",
              "\n",
              "      async function convertToInteractive(key) {\n",
              "        const element = document.querySelector('#df-603abc8b-0c4b-4462-8b18-f8c2d36524ab');\n",
              "        const dataTable =\n",
              "          await google.colab.kernel.invokeFunction('convertToInteractive',\n",
              "                                                    [key], {});\n",
              "        if (!dataTable) return;\n",
              "\n",
              "        const docLinkHtml = 'Like what you see? Visit the ' +\n",
              "          '<a target=\"_blank\" href=https://colab.research.google.com/notebooks/data_table.ipynb>data table notebook</a>'\n",
              "          + ' to learn more about interactive tables.';\n",
              "        element.innerHTML = '';\n",
              "        dataTable['output_type'] = 'display_data';\n",
              "        await google.colab.output.renderOutput(dataTable, element);\n",
              "        const docLink = document.createElement('div');\n",
              "        docLink.innerHTML = docLinkHtml;\n",
              "        element.appendChild(docLink);\n",
              "      }\n",
              "    </script>\n",
              "  </div>\n",
              "\n",
              "\n",
              "    <div id=\"df-560fe5aa-0516-4e42-996e-bd9eddd99608\">\n",
              "      <button class=\"colab-df-quickchart\" onclick=\"quickchart('df-560fe5aa-0516-4e42-996e-bd9eddd99608')\"\n",
              "                title=\"Suggest charts\"\n",
              "                style=\"display:none;\">\n",
              "\n",
              "<svg xmlns=\"http://www.w3.org/2000/svg\" height=\"24px\"viewBox=\"0 0 24 24\"\n",
              "     width=\"24px\">\n",
              "    <g>\n",
              "        <path d=\"M19 3H5c-1.1 0-2 .9-2 2v14c0 1.1.9 2 2 2h14c1.1 0 2-.9 2-2V5c0-1.1-.9-2-2-2zM9 17H7v-7h2v7zm4 0h-2V7h2v10zm4 0h-2v-4h2v4z\"/>\n",
              "    </g>\n",
              "</svg>\n",
              "      </button>\n",
              "\n",
              "<style>\n",
              "  .colab-df-quickchart {\n",
              "      --bg-color: #E8F0FE;\n",
              "      --fill-color: #1967D2;\n",
              "      --hover-bg-color: #E2EBFA;\n",
              "      --hover-fill-color: #174EA6;\n",
              "      --disabled-fill-color: #AAA;\n",
              "      --disabled-bg-color: #DDD;\n",
              "  }\n",
              "\n",
              "  [theme=dark] .colab-df-quickchart {\n",
              "      --bg-color: #3B4455;\n",
              "      --fill-color: #D2E3FC;\n",
              "      --hover-bg-color: #434B5C;\n",
              "      --hover-fill-color: #FFFFFF;\n",
              "      --disabled-bg-color: #3B4455;\n",
              "      --disabled-fill-color: #666;\n",
              "  }\n",
              "\n",
              "  .colab-df-quickchart {\n",
              "    background-color: var(--bg-color);\n",
              "    border: none;\n",
              "    border-radius: 50%;\n",
              "    cursor: pointer;\n",
              "    display: none;\n",
              "    fill: var(--fill-color);\n",
              "    height: 32px;\n",
              "    padding: 0;\n",
              "    width: 32px;\n",
              "  }\n",
              "\n",
              "  .colab-df-quickchart:hover {\n",
              "    background-color: var(--hover-bg-color);\n",
              "    box-shadow: 0 1px 2px rgba(60, 64, 67, 0.3), 0 1px 3px 1px rgba(60, 64, 67, 0.15);\n",
              "    fill: var(--button-hover-fill-color);\n",
              "  }\n",
              "\n",
              "  .colab-df-quickchart-complete:disabled,\n",
              "  .colab-df-quickchart-complete:disabled:hover {\n",
              "    background-color: var(--disabled-bg-color);\n",
              "    fill: var(--disabled-fill-color);\n",
              "    box-shadow: none;\n",
              "  }\n",
              "\n",
              "  .colab-df-spinner {\n",
              "    border: 2px solid var(--fill-color);\n",
              "    border-color: transparent;\n",
              "    border-bottom-color: var(--fill-color);\n",
              "    animation:\n",
              "      spin 1s steps(1) infinite;\n",
              "  }\n",
              "\n",
              "  @keyframes spin {\n",
              "    0% {\n",
              "      border-color: transparent;\n",
              "      border-bottom-color: var(--fill-color);\n",
              "      border-left-color: var(--fill-color);\n",
              "    }\n",
              "    20% {\n",
              "      border-color: transparent;\n",
              "      border-left-color: var(--fill-color);\n",
              "      border-top-color: var(--fill-color);\n",
              "    }\n",
              "    30% {\n",
              "      border-color: transparent;\n",
              "      border-left-color: var(--fill-color);\n",
              "      border-top-color: var(--fill-color);\n",
              "      border-right-color: var(--fill-color);\n",
              "    }\n",
              "    40% {\n",
              "      border-color: transparent;\n",
              "      border-right-color: var(--fill-color);\n",
              "      border-top-color: var(--fill-color);\n",
              "    }\n",
              "    60% {\n",
              "      border-color: transparent;\n",
              "      border-right-color: var(--fill-color);\n",
              "    }\n",
              "    80% {\n",
              "      border-color: transparent;\n",
              "      border-right-color: var(--fill-color);\n",
              "      border-bottom-color: var(--fill-color);\n",
              "    }\n",
              "    90% {\n",
              "      border-color: transparent;\n",
              "      border-bottom-color: var(--fill-color);\n",
              "    }\n",
              "  }\n",
              "</style>\n",
              "\n",
              "      <script>\n",
              "        async function quickchart(key) {\n",
              "          const quickchartButtonEl =\n",
              "            document.querySelector('#' + key + ' button');\n",
              "          quickchartButtonEl.disabled = true;  // To prevent multiple clicks.\n",
              "          quickchartButtonEl.classList.add('colab-df-spinner');\n",
              "          try {\n",
              "            const charts = await google.colab.kernel.invokeFunction(\n",
              "                'suggestCharts', [key], {});\n",
              "          } catch (error) {\n",
              "            console.error('Error during call to suggestCharts:', error);\n",
              "          }\n",
              "          quickchartButtonEl.classList.remove('colab-df-spinner');\n",
              "          quickchartButtonEl.classList.add('colab-df-quickchart-complete');\n",
              "        }\n",
              "        (() => {\n",
              "          let quickchartButtonEl =\n",
              "            document.querySelector('#df-560fe5aa-0516-4e42-996e-bd9eddd99608 button');\n",
              "          quickchartButtonEl.style.display =\n",
              "            google.colab.kernel.accessAllowed ? 'block' : 'none';\n",
              "        })();\n",
              "      </script>\n",
              "    </div>\n",
              "\n",
              "    </div>\n",
              "  </div>\n"
            ],
            "application/vnd.google.colaboratory.intrinsic+json": {
              "type": "dataframe",
              "variable_name": "df",
              "summary": "{\n  \"name\": \"df\",\n  \"rows\": 127,\n  \"fields\": [\n    {\n      \"column\": \"Date\",\n      \"properties\": {\n        \"dtype\": \"date\",\n        \"min\": \"2025-02-03 00:00:00\",\n        \"max\": \"2025-07-31 00:00:00\",\n        \"num_unique_values\": 127,\n        \"samples\": [\n          \"2025-03-11 00:00:00\",\n          \"2025-07-10 00:00:00\",\n          \"2025-05-29 00:00:00\"\n        ],\n        \"semantic_type\": \"\",\n        \"description\": \"\"\n      }\n    },\n    {\n      \"column\": \"Rate\",\n      \"properties\": {\n        \"dtype\": \"number\",\n        \"std\": 0.08929155250962768,\n        \"min\": 4.883465766906738,\n        \"max\": 5.289854049682617,\n        \"num_unique_values\": 124,\n        \"samples\": [\n          5.062924861907959,\n          5.086391925811768,\n          5.06574010848999\n        ],\n        \"semantic_type\": \"\",\n        \"description\": \"\"\n      }\n    }\n  ]\n}"
            }
          },
          "metadata": {},
          "execution_count": 2
        }
      ]
    },
    {
      "cell_type": "markdown",
      "source": [
        "### 2. Model Forecast"
      ],
      "metadata": {
        "id": "H3L--hS84L7N"
      }
    },
    {
      "cell_type": "markdown",
      "source": [
        "### A. ARIMA (AutoRegressive Integrated Moving Average)\n",
        "- Good for stationary data, using differencing to calculate linear/polynomial trends\n",
        "- Good for short-term forecasting\n",
        "- Good for no strong seasonal patterns\n",
        "- Used in finance, weather forecasting, demand prediction etc\n",
        "\n",
        "ARIMA(p, d, q)\n",
        "- p =  number of autoregressive terms\n",
        "- d = number of differences to make the series stationary\n",
        "- q = number of moving average terms\n",
        "\n"
      ],
      "metadata": {
        "id": "IzOyB9BG4QW0"
      }
    },
    {
      "cell_type": "code",
      "metadata": {
        "colab": {
          "base_uri": "https://localhost:8080/",
          "height": 1000
        },
        "id": "c51cf8f1",
        "outputId": "11196097-042d-4d75-f4fc-050626d77ccc"
      },
      "source": [
        "# Import necessary libraries for ARIMA\n",
        "from statsmodels.tsa.arima.model import ARIMA\n",
        "import pandas as pd\n",
        "import matplotlib.pyplot as plt\n",
        "\n",
        "# Load the data\n",
        "# df = pd.read_csv(\"cad_cny_history.csv\")\n",
        "\n",
        "# Prepare data for ARIMA - ARIMA requires a time series with a DatetimeIndex\n",
        "df['Date'] = pd.to_datetime(df['Date'])\n",
        "df.set_index('Date', inplace=True)\n",
        "\n",
        "# Fit the ARIMA model\n",
        "model = ARIMA(df['Rate'], order=(5, 1, 0))\n",
        "model_fit = model.fit()\n",
        "\n",
        "# Make predictions for the next 14 days\n",
        "forecast_steps = 14\n",
        "forecast = model_fit.forecast(steps=forecast_steps)\n",
        "\n",
        "# Create a date range for the forecast\n",
        "last_date = df.index[-1]\n",
        "forecast_dates = pd.date_range(start=last_date + pd.Timedelta(days=1), periods=forecast_steps, freq='D')\n",
        "\n",
        "# Create a DataFrame for the forecast\n",
        "forecast_df = pd.DataFrame({'Date': forecast_dates, 'Forecasted_Rate': forecast.values})\n",
        "\n",
        "# Display the forecasted rates\n",
        "print(\"Forecasted Rates for the next 14 days:\")\n",
        "print(forecast_df)\n",
        "\n",
        "# Optional: Plot the historical data and the forecast\n",
        "plt.figure(figsize=(12, 6))\n",
        "plt.plot(df['Rate'], label='Historical Data')\n",
        "plt.plot(forecast_df['Date'], forecast_df['Forecasted_Rate'], color='red', label='ARIMA Forecast')\n",
        "plt.title('CAD to CNY Exchange Rate Forecast (ARIMA)')\n",
        "plt.xlabel('Date')\n",
        "plt.ylabel('Exchange Rate')\n",
        "plt.legend()\n",
        "plt.grid(True)\n",
        "plt.show()"
      ],
      "execution_count": 3,
      "outputs": [
        {
          "output_type": "stream",
          "name": "stderr",
          "text": [
            "/usr/local/lib/python3.11/dist-packages/statsmodels/tsa/base/tsa_model.py:473: ValueWarning: A date index has been provided, but it has no associated frequency information and so will be ignored when e.g. forecasting.\n",
            "  self._init_dates(dates, freq)\n",
            "/usr/local/lib/python3.11/dist-packages/statsmodels/tsa/base/tsa_model.py:473: ValueWarning: A date index has been provided, but it has no associated frequency information and so will be ignored when e.g. forecasting.\n",
            "  self._init_dates(dates, freq)\n",
            "/usr/local/lib/python3.11/dist-packages/statsmodels/tsa/base/tsa_model.py:473: ValueWarning: A date index has been provided, but it has no associated frequency information and so will be ignored when e.g. forecasting.\n",
            "  self._init_dates(dates, freq)\n",
            "/usr/local/lib/python3.11/dist-packages/statsmodels/tsa/base/tsa_model.py:837: ValueWarning: No supported index is available. Prediction results will be given with an integer index beginning at `start`.\n",
            "  return get_prediction_index(\n",
            "/usr/local/lib/python3.11/dist-packages/statsmodels/tsa/base/tsa_model.py:837: FutureWarning: No supported index is available. In the next version, calling this method in a model without a supported index will result in an exception.\n",
            "  return get_prediction_index(\n"
          ]
        },
        {
          "output_type": "stream",
          "name": "stdout",
          "text": [
            "Forecasted Rates for the next 14 days:\n",
            "         Date  Forecasted_Rate\n",
            "0  2025-08-01         5.176195\n",
            "1  2025-08-02         5.168717\n",
            "2  2025-08-03         5.166518\n",
            "3  2025-08-04         5.159825\n",
            "4  2025-08-05         5.153336\n",
            "5  2025-08-06         5.147088\n",
            "6  2025-08-07         5.144147\n",
            "7  2025-08-08         5.141845\n",
            "8  2025-08-09         5.139380\n",
            "9  2025-08-10         5.136612\n",
            "10 2025-08-11         5.134290\n",
            "11 2025-08-12         5.132813\n",
            "12 2025-08-13         5.131659\n",
            "13 2025-08-14         5.130576\n"
          ]
        },
        {
          "output_type": "display_data",
          "data": {
            "text/plain": [
              "<Figure size 1200x600 with 1 Axes>"
            ],
            "image/png": "[encoded data removed]"
          },
          "metadata": {}
        }
      ]
    },
    {
      "cell_type": "code",
      "source": [
        "start_rate = forecast_df['Forecasted_Rate'].iloc[0]\n",
        "end_rate = forecast_df['Forecasted_Rate'].iloc[-1]\n",
        "rate_change = end_rate - start_rate\n",
        "trend = \"increase\" if rate_change > 0 else \"decrease\" if rate_change < 0 else \"remain stable\"\n",
        "\n",
        "start_day = forecast_df['Date'].iloc[0]\n",
        "end_day = forecast_df['Date'].iloc[-1]\n",
        "\n",
        "summary = (\n",
        "    f\"The CAD to CNY exchange rate is forecasted to {trend} by \"\n",
        "    f\"{abs(rate_change)/start_rate*100:.2f}% over the next 14 days, \"\n",
        "    f\"from {start_rate:.4f} to {end_rate:.4f} for date: {start_day} to {end_day}.\"\n",
        ")\n",
        "\n",
        "print(\"Prediction Summary:\")\n",
        "print(summary)"
      ],
      "metadata": {
        "colab": {
          "base_uri": "https://localhost:8080/"
        },
        "id": "o97m6BqL-xOJ",
        "outputId": "54c3a9dd-beb1-45ff-a212-2dbe84098e8c"
      },
      "execution_count": 6,
      "outputs": [
        {
          "output_type": "stream",
          "name": "stdout",
          "text": [
            "Prediction Summary:\n",
            "The CAD to CNY exchange rate is forecasted to decrease by 0.88% over the next 14 days, from 5.1762 to 5.1306 for date: 2025-08-01 00:00:00 to 2025-08-14 00:00:00.\n"
          ]
        }
      ]
    },
    {
      "cell_type": "markdown",
      "source": [
        "#### Determine best fit p, d, q"
      ],
      "metadata": {
        "id": "oUfmYzVa9XL7"
      }
    },
    {
      "cell_type": "code",
      "source": [
        "def determine_ARIMA_param():\n",
        ""
      ],
      "metadata": {
        "id": "Rwd6SXee4Uq_"
      },
      "execution_count": null,
      "outputs": []
    },
    {
      "cell_type": "markdown",
      "source": [
        "### B. LSTM"
      ],
      "metadata": {
        "id": "4kHpawGf4SpQ"
      }
    },
    {
      "cell_type": "code",
      "source": [],
      "metadata": {
        "id": "HA44-n1T4Lh1"
      },
      "execution_count": null,
      "outputs": []
    },
    {
      "cell_type": "markdown",
      "source": [
        "## 3. Compare predicted results among Prophet, ARIMA, and LSTM"
      ],
      "metadata": {
        "id": "GJLV0hL14niV"
      }
    },
    {
      "cell_type": "code",
      "source": [],
      "metadata": {
        "id": "2PFXna7a4t-1"
      },
      "execution_count": null,
      "outputs": []
    }
  ]
}